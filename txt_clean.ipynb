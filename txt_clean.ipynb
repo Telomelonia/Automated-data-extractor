{
 "cells": [
  {
   "cell_type": "code",
   "execution_count": 1,
   "metadata": {},
   "outputs": [
    {
     "name": "stdout",
     "output_type": "stream",
     "text": [
      "Cleaned htmlurl304_output.txt\n",
      "Cleaned htmlurl304l_output.txt\n",
      "Cleaned htmlurl310_output.txt\n",
      "Cleaned htmlurl316_output.txt\n",
      "Cleaned htmlurl316l_output.txt\n",
      "Cleaned htmlurl410_output.txt\n",
      "Cleaned htmlurl430_output.txt\n"
     ]
    }
   ],
   "source": [
    "import os\n",
    "\n",
    "def clean_text_file(file_path):\n",
    "    with open(file_path, 'r', encoding='utf-8') as file:\n",
    "        content = file.read()\n",
    "\n",
    "    # Replace multiple newlines with a single newline\n",
    "    # This regex replaces occurrences of two or more newlines with just one newline\n",
    "    cleaned_content = content.strip()  # Removes leading and trailing whitespace and newlines\n",
    "    cleaned_content = \"\\n\".join(line.strip() for line in cleaned_content.splitlines() if line.strip())\n",
    "\n",
    "    with open(file_path, 'w', encoding='utf-8') as file:\n",
    "        file.write(cleaned_content)\n",
    "\n",
    "# List of files to clean\n",
    "files_to_clean = [\n",
    "    \"htmlurl304_output.txt\",\n",
    "    \"htmlurl304l_output.txt\",\n",
    "    \"htmlurl310_output.txt\",\n",
    "    \"htmlurl316_output.txt\",\n",
    "    \"htmlurl316l_output.txt\",\n",
    "    \"htmlurl410_output.txt\",\n",
    "    \"htmlurl430_output.txt\"\n",
    "]\n",
    "\n",
    "# Iterate through each file and clean it\n",
    "for filename in files_to_clean:\n",
    "    file_path = os.path.join(os.getcwd(), filename)  # Get full path if needed\n",
    "    clean_text_file(file_path)\n",
    "    print(f\"Cleaned {filename}\")"
   ]
  }
 ],
 "metadata": {
  "kernelspec": {
   "display_name": "Python 3",
   "language": "python",
   "name": "python3"
  },
  "language_info": {
   "codemirror_mode": {
    "name": "ipython",
    "version": 3
   },
   "file_extension": ".py",
   "mimetype": "text/x-python",
   "name": "python",
   "nbconvert_exporter": "python",
   "pygments_lexer": "ipython3",
   "version": "3.10.2"
  }
 },
 "nbformat": 4,
 "nbformat_minor": 2
}
