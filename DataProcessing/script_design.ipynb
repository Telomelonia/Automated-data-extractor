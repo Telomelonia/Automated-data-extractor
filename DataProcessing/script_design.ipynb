{
 "cells": [
  {
   "cell_type": "markdown",
   "metadata": {},
   "source": [
    "- [ ] links from csv\n",
    "- [ ] remove the citations url\n",
    "- [ ] bifurcate the pdf urls, html\n",
    "- [ ] parse the text\n",
    "- [ ] save the text in output.txt in workspace\n",
    "- [ ] clean it \n",
    "- [ ] stuff it into llama "
   ]
  },
  {
   "cell_type": "code",
   "execution_count": null,
   "metadata": {},
   "outputs": [],
   "source": []
  }
 ],
 "metadata": {
  "language_info": {
   "name": "python"
  }
 },
 "nbformat": 4,
 "nbformat_minor": 2
}
